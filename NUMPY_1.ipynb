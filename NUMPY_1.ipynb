{
  "nbformat": 4,
  "nbformat_minor": 0,
  "metadata": {
    "colab": {
      "provenance": [],
      "authorship_tag": "ABX9TyOyS9ZBXGdSn9BApNhDV1P1",
      "include_colab_link": true
    },
    "kernelspec": {
      "name": "python3",
      "display_name": "Python 3"
    },
    "language_info": {
      "name": "python"
    }
  },
  "cells": [
    {
      "cell_type": "markdown",
      "metadata": {
        "id": "view-in-github",
        "colab_type": "text"
      },
      "source": [
        "<a href=\"https://colab.research.google.com/github/Niki-098/Numpy/blob/main/NUMPY_1.ipynb\" target=\"_parent\"><img src=\"https://colab.research.google.com/assets/colab-badge.svg\" alt=\"Open In Colab\"/></a>"
      ]
    },
    {
      "cell_type": "code",
      "execution_count": 1,
      "metadata": {
        "id": "J73xW2F4FHU4"
      },
      "outputs": [],
      "source": [
        "import numpy as np"
      ]
    },
    {
      "cell_type": "code",
      "source": [
        "a = np.array([10,20,30,40])"
      ],
      "metadata": {
        "id": "pQK6U72wHSGj"
      },
      "execution_count": 2,
      "outputs": []
    },
    {
      "cell_type": "code",
      "source": [
        "print(type(a))"
      ],
      "metadata": {
        "colab": {
          "base_uri": "https://localhost:8080/"
        },
        "id": "fQscRQ02HbUE",
        "outputId": "e0ee10db-d699-44ed-c176-4e227bb3f8c1"
      },
      "execution_count": 3,
      "outputs": [
        {
          "output_type": "stream",
          "name": "stdout",
          "text": [
            "<class 'numpy.ndarray'>\n"
          ]
        }
      ]
    },
    {
      "cell_type": "code",
      "source": [
        "#4 elements\n",
        "print(a.shape)"
      ],
      "metadata": {
        "colab": {
          "base_uri": "https://localhost:8080/"
        },
        "id": "yt8JrH3cHh46",
        "outputId": "6e1a7878-73b2-47e7-fd7e-a16fa13db73a"
      },
      "execution_count": 4,
      "outputs": [
        {
          "output_type": "stream",
          "name": "stdout",
          "text": [
            "(4,)\n"
          ]
        }
      ]
    },
    {
      "cell_type": "code",
      "source": [
        "print(a[0],a[1],a[2],a[3])"
      ],
      "metadata": {
        "colab": {
          "base_uri": "https://localhost:8080/"
        },
        "id": "zbu0VjaqH-KB",
        "outputId": "1739243d-0f4e-47f8-e7d1-dafac04719ea"
      },
      "execution_count": 5,
      "outputs": [
        {
          "output_type": "stream",
          "name": "stdout",
          "text": [
            "10 20 30 40\n"
          ]
        }
      ]
    },
    {
      "cell_type": "code",
      "source": [
        "#assignment is right to left\n",
        "a[0]=50\n",
        "print(a)"
      ],
      "metadata": {
        "colab": {
          "base_uri": "https://localhost:8080/"
        },
        "id": "ZWA0kAllILSH",
        "outputId": "67ccf7a6-eb28-49fa-c57c-11ac93b6535e"
      },
      "execution_count": 7,
      "outputs": [
        {
          "output_type": "stream",
          "name": "stdout",
          "text": [
            "[50 20 30 40]\n"
          ]
        }
      ]
    },
    {
      "cell_type": "code",
      "source": [
        "b= np.array([[10,20,30],[50,60,70]])\n",
        "print(b)"
      ],
      "metadata": {
        "colab": {
          "base_uri": "https://localhost:8080/"
        },
        "id": "HmrNFJP0IsV5",
        "outputId": "e0c75ca4-7796-49f9-f765-545c614e8d50"
      },
      "execution_count": 12,
      "outputs": [
        {
          "output_type": "stream",
          "name": "stdout",
          "text": [
            "[[10 20 30]\n",
            " [50 60 70]]\n"
          ]
        }
      ]
    },
    {
      "cell_type": "code",
      "source": [
        "print(type(b))"
      ],
      "metadata": {
        "colab": {
          "base_uri": "https://localhost:8080/"
        },
        "id": "1eqvX9CsIsYO",
        "outputId": "5a1c0b0e-0117-4079-b778-72fd3aaa6f85"
      },
      "execution_count": 10,
      "outputs": [
        {
          "output_type": "stream",
          "name": "stdout",
          "text": [
            "<class 'numpy.ndarray'>\n"
          ]
        }
      ]
    },
    {
      "cell_type": "code",
      "source": [
        "print(b.shape)"
      ],
      "metadata": {
        "colab": {
          "base_uri": "https://localhost:8080/"
        },
        "id": "GzGsbZEyJL9q",
        "outputId": "f5196828-59f8-41cd-ed70-8702b91285ff"
      },
      "execution_count": 13,
      "outputs": [
        {
          "output_type": "stream",
          "name": "stdout",
          "text": [
            "(2, 3)\n"
          ]
        }
      ]
    },
    {
      "cell_type": "code",
      "source": [
        "print(b[0,0],b[0,1],b[1,0])"
      ],
      "metadata": {
        "colab": {
          "base_uri": "https://localhost:8080/"
        },
        "id": "sxJgv_thJUks",
        "outputId": "f2adb848-1678-4fef-a138-76cb4614ab7e"
      },
      "execution_count": 14,
      "outputs": [
        {
          "output_type": "stream",
          "name": "stdout",
          "text": [
            "10 20 50\n"
          ]
        }
      ]
    },
    {
      "cell_type": "markdown",
      "source": [
        "**NUMPY FUNCTIONS**"
      ],
      "metadata": {
        "id": "_SSBXhERJxfE"
      }
    },
    {
      "cell_type": "code",
      "source": [
        "# 2 rows and 3 columns\n",
        "c=np.zeros((2,3))\n",
        "print(c)"
      ],
      "metadata": {
        "colab": {
          "base_uri": "https://localhost:8080/"
        },
        "id": "VxHRZG8pJUrp",
        "outputId": "6e9eb8a8-abcb-4383-dac5-45fb6f7daecf"
      },
      "execution_count": 15,
      "outputs": [
        {
          "output_type": "stream",
          "name": "stdout",
          "text": [
            "[[0. 0. 0.]\n",
            " [0. 0. 0.]]\n"
          ]
        }
      ]
    },
    {
      "cell_type": "code",
      "source": [
        "# 1 row and 5 columns\n",
        "d=np.ones((1,5))\n",
        "print(d)"
      ],
      "metadata": {
        "colab": {
          "base_uri": "https://localhost:8080/"
        },
        "id": "gNVt9aNNJUuF",
        "outputId": "9cf4b9a7-5ff7-4af8-ff09-f1c7ae43a79f"
      },
      "execution_count": 16,
      "outputs": [
        {
          "output_type": "stream",
          "name": "stdout",
          "text": [
            "[[1. 1. 1. 1. 1.]]\n"
          ]
        }
      ]
    },
    {
      "cell_type": "code",
      "source": [
        "e=np.full((3,2),7)\n",
        "print(e)"
      ],
      "metadata": {
        "colab": {
          "base_uri": "https://localhost:8080/"
        },
        "id": "IjBqaYqmJUwf",
        "outputId": "f673e6bc-5e89-4478-d339-a066bbda8188"
      },
      "execution_count": 17,
      "outputs": [
        {
          "output_type": "stream",
          "name": "stdout",
          "text": [
            "[[7 7]\n",
            " [7 7]\n",
            " [7 7]]\n"
          ]
        }
      ]
    },
    {
      "cell_type": "code",
      "source": [
        "print(type(e))"
      ],
      "metadata": {
        "colab": {
          "base_uri": "https://localhost:8080/"
        },
        "id": "FsATpIRTJU2-",
        "outputId": "08774efa-341d-453e-dc0d-179448e7d26c"
      },
      "execution_count": 18,
      "outputs": [
        {
          "output_type": "stream",
          "name": "stdout",
          "text": [
            "<class 'numpy.ndarray'>\n"
          ]
        }
      ]
    },
    {
      "cell_type": "code",
      "source": [
        "# diagonal values will be 1 and non diagonal values will be 0\n",
        "f=np.eye(5)\n",
        "print(f)"
      ],
      "metadata": {
        "colab": {
          "base_uri": "https://localhost:8080/"
        },
        "id": "QjDahchqJU5S",
        "outputId": "b910ce36-9ceb-4964-a0d5-77823e645bc4"
      },
      "execution_count": 20,
      "outputs": [
        {
          "output_type": "stream",
          "name": "stdout",
          "text": [
            "[[1. 0. 0. 0. 0.]\n",
            " [0. 1. 0. 0. 0.]\n",
            " [0. 0. 1. 0. 0.]\n",
            " [0. 0. 0. 1. 0.]\n",
            " [0. 0. 0. 0. 1.]]\n"
          ]
        }
      ]
    },
    {
      "cell_type": "code",
      "source": [
        "# random = module name , random = function name\n",
        "# 2 rows and 2 columns , generates random values,\n",
        "# uniformly distributed between 0 and 1\n",
        "g=np.random.random((2,2))\n",
        "print(g)"
      ],
      "metadata": {
        "colab": {
          "base_uri": "https://localhost:8080/"
        },
        "id": "ngb3PVmXLD80",
        "outputId": "7dbf33cd-b539-45ca-d931-258724bf99d6"
      },
      "execution_count": 22,
      "outputs": [
        {
          "output_type": "stream",
          "name": "stdout",
          "text": [
            "[[0.29185961 0.75882692]\n",
            " [0.82711739 0.0474116 ]]\n"
          ]
        }
      ]
    },
    {
      "cell_type": "code",
      "source": [
        "import numpy as np\n",
        "import matplotlib.pyplot as plt\n",
        "\n",
        "\n",
        "# Generate random numbers from a uniform distribution\n",
        "uniform_data = np.random.random(100000000)\n",
        "\n",
        "\n",
        "# Plot the histogram\n",
        "plt.hist(uniform_data, bins=20, density=True, alpha=0.7)\n",
        "plt.title('Uniform Distribution')\n",
        "plt.xlabel('Value')\n",
        "plt.ylabel('Probability Density')\n",
        "plt.show()\n",
        "\n",
        "\n"
      ],
      "metadata": {
        "colab": {
          "base_uri": "https://localhost:8080/",
          "height": 472
        },
        "id": "ShlICdPzLEAw",
        "outputId": "f521e4e6-66fc-4ac0-c872-421044cfa086"
      },
      "execution_count": 27,
      "outputs": [
        {
          "output_type": "display_data",
          "data": {
            "text/plain": [
              "<Figure size 640x480 with 1 Axes>"
            ],
            "image/png": "[encoded data removed]"
          },
          "metadata": {}
        }
      ]
    },
    {
      "cell_type": "code",
      "source": [
        "\n",
        "a=np.random.randint(1,51,(3,5))\n",
        "print(a)"
      ],
      "metadata": {
        "colab": {
          "base_uri": "https://localhost:8080/"
        },
        "id": "9ka6UxDANBs1",
        "outputId": "7a334d6a-7c21-4479-baae-b65be60fe04b"
      },
      "execution_count": 31,
      "outputs": [
        {
          "output_type": "stream",
          "name": "stdout",
          "text": [
            "[[23 23 12 20 14]\n",
            " [40 32 34 34 23]\n",
            " [ 3 43 22 26 38]]\n"
          ]
        }
      ]
    },
    {
      "cell_type": "code",
      "source": [
        "b=np.random.randn(4)  #standard normal distribution\n",
        "print(b)"
      ],
      "metadata": {
        "colab": {
          "base_uri": "https://localhost:8080/"
        },
        "id": "wtylos-5NBvE",
        "outputId": "1191f58c-9ec1-41fb-a3a5-645a530d8f3f"
      },
      "execution_count": 33,
      "outputs": [
        {
          "output_type": "stream",
          "name": "stdout",
          "text": [
            "[-0.54756267 -1.01505097 -2.30551538 -0.61366327]\n"
          ]
        }
      ]
    },
    {
      "cell_type": "code",
      "source": [
        "import numpy as np\n",
        "import matplotlib.pyplot as plt\n",
        "\n",
        "\n",
        "# Generate random numbers from a normal distribution\n",
        "uniform_data = np.random.randn(100000)\n",
        "\n",
        "\n",
        "# Plot the histogram\n",
        "plt.hist(uniform_data, bins=20, density=True, alpha=0.7)\n",
        "plt.title('Normal Distribution')\n",
        "plt.xlabel('Value')\n",
        "plt.ylabel('Probability Density')\n",
        "plt.show()\n",
        "\n",
        "\n",
        "\n",
        "\n",
        "\n"
      ],
      "metadata": {
        "colab": {
          "base_uri": "https://localhost:8080/",
          "height": 472
        },
        "id": "9xuB7hABNBxk",
        "outputId": "cbce4881-6ea7-4164-a419-ab464717991f"
      },
      "execution_count": 34,
      "outputs": [
        {
          "output_type": "display_data",
          "data": {
            "text/plain": [
              "<Figure size 640x480 with 1 Axes>"
            ],
            "image/png": "[encoded data removed]"
          },
          "metadata": {}
        }
      ]
    },
    {
      "cell_type": "markdown",
      "source": [
        "**NUMPY ATTRIBUTES**"
      ],
      "metadata": {
        "id": "-A857G7ROJJk"
      }
    },
    {
      "cell_type": "code",
      "source": [
        "#8 byte FOR EACH\n",
        "#8 * 6 =64 bits\n",
        "#32 BITS FOR LESS DATA\n",
        "\n",
        "import numpy as np\n",
        "\n",
        "\n",
        "# Create a 2D ndarray\n",
        "arr = np.array([[4, 6, 8], [14, 15, 16]])\n",
        "\n",
        "\n",
        "# Print numpy array attributes\n",
        "print(\"Data type:\", arr.dtype)\n",
        "print(\"Shape:\", arr.shape)    #no of rows and columns\n",
        "print(\"Number of dimensions:\", arr.ndim)\n",
        "print(\"Size:\", arr.size) # number of elements\n",
        "print(\"Number of bytes:\", arr.nbytes)\n",
        "\n",
        "\n",
        "\n"
      ],
      "metadata": {
        "colab": {
          "base_uri": "https://localhost:8080/"
        },
        "id": "1t61plRMLEDd",
        "outputId": "55ae169e-b019-4721-c03e-7fb4f61e5dd6"
      },
      "execution_count": 35,
      "outputs": [
        {
          "output_type": "stream",
          "name": "stdout",
          "text": [
            "Data type: int64\n",
            "Shape: (2, 3)\n",
            "Number of dimensions: 2\n",
            "Size: 6\n",
            "Number of bytes: 48\n"
          ]
        }
      ]
    },
    {
      "cell_type": "code",
      "source": [
        "# 3D ARRAY\n",
        "import numpy as np\n",
        "\n",
        "\n",
        "# Create a 3D ndarray\n",
        "arr = np.array([[[1, 2, 3], [4, 5, 6]], [[7, 8, 9], [10, 11, 12]]])\n",
        "\n",
        "\n",
        "# Print ndarray attributes\n",
        "print(\"Data type:\", arr.dtype)\n",
        "print(\"Shape:\", arr.shape)    # 2 metrics, 2 rows , 3 columns\n",
        "print(\"Number of dimensions:\", arr.ndim)\n",
        "print(\"Size:\", arr.size)\n",
        "print(\"Number of bytes:\", arr.nbytes)  # 12*8 =96 bytes\n",
        "\n"
      ],
      "metadata": {
        "colab": {
          "base_uri": "https://localhost:8080/"
        },
        "id": "9bJdxJYKLEHh",
        "outputId": "b0a77db9-727f-4777-868c-df50a3b119ab"
      },
      "execution_count": 36,
      "outputs": [
        {
          "output_type": "stream",
          "name": "stdout",
          "text": [
            "Data type: int64\n",
            "Shape: (2, 2, 3)\n",
            "Number of dimensions: 3\n",
            "Size: 12\n",
            "Number of bytes: 96\n"
          ]
        }
      ]
    },
    {
      "cell_type": "markdown",
      "source": [
        "**DATATYPES**"
      ],
      "metadata": {
        "id": "o6N7BOwmQPmd"
      }
    },
    {
      "cell_type": "code",
      "source": [
        "x = np.array([11, 12])   # Let numpy choose the datatype\n",
        "print(x.dtype)         # Prints \"int64\"\n",
        "\n",
        "\n",
        "x = np.array([11.0, 12.0])   # Let numpy choose the datatype\n",
        "print(x.dtype)             # Prints \"float64\"\n",
        "\n",
        "\n",
        "x = np.array([11, 12], dtype=np.int32)   # Force a particular datatype\n",
        "print(x.dtype)                           # Prints \"int64\"\n",
        "                                         # USED TO SAVE THE SPACE BY ASSIGNING 32 BYTE SPACE TO THE VARIABLE\n",
        "\n",
        "\n",
        "\n"
      ],
      "metadata": {
        "colab": {
          "base_uri": "https://localhost:8080/"
        },
        "id": "EE6b6yudLEK2",
        "outputId": "82f85326-4d33-4567-d54d-85556df85b21"
      },
      "execution_count": 37,
      "outputs": [
        {
          "output_type": "stream",
          "name": "stdout",
          "text": [
            "int64\n",
            "float64\n",
            "int32\n"
          ]
        }
      ]
    },
    {
      "cell_type": "code",
      "source": [
        "# Create a 2D array\n",
        "arr = np.array([[11, 12, 13], [14, 15, 16], [17, 18, 19]])\n",
        "\n",
        "\n",
        "# Accessing individual elements\n",
        "print(\"Array:\")\n",
        "print(arr)\n",
        "print(\"Element at (0, 0):\", arr[0, 0])\n",
        "print(\"Element at (1, 2):\", arr[1, 2])\n",
        "\n",
        "print(\"Row at index 1:\", arr[1])\n",
        "print(\"Column at index 2:\",arr[:,2])\n"
      ],
      "metadata": {
        "colab": {
          "base_uri": "https://localhost:8080/"
        },
        "id": "VMMccMneQ4z9",
        "outputId": "f74a80b0-8d07-4e13-da18-37acf4cf575e"
      },
      "execution_count": 40,
      "outputs": [
        {
          "output_type": "stream",
          "name": "stdout",
          "text": [
            "Array:\n",
            "[[11 12 13]\n",
            " [14 15 16]\n",
            " [17 18 19]]\n",
            "Element at (0, 0): 11\n",
            "Element at (1, 2): 16\n",
            "Row at index 1: [14 15 16]\n",
            "Column at index 2: [13 16 19]\n"
          ]
        }
      ]
    },
    {
      "cell_type": "code",
      "source": [
        "#Slicing the array\n",
        "print(arr[1:3,1:3])"
      ],
      "metadata": {
        "colab": {
          "base_uri": "https://localhost:8080/"
        },
        "id": "AjbXsfjXQ42D",
        "outputId": "7712c3d1-f7a0-436b-bf4b-c6c210bf66f6"
      },
      "execution_count": 42,
      "outputs": [
        {
          "output_type": "stream",
          "name": "stdout",
          "text": [
            "[[15 16]\n",
            " [18 19]]\n"
          ]
        }
      ]
    },
    {
      "cell_type": "code",
      "source": [
        "# Boolean indexing\n",
        "mask = arr > 17\n",
        "print(\"Elements greater than 5:\")\n",
        "print(arr[mask])\n",
        "\n",
        "\n",
        "\n"
      ],
      "metadata": {
        "colab": {
          "base_uri": "https://localhost:8080/"
        },
        "id": "kTJLlNXqQ46K",
        "outputId": "605129dc-70e3-4a52-be5d-cbdeb2685b69"
      },
      "execution_count": 43,
      "outputs": [
        {
          "output_type": "stream",
          "name": "stdout",
          "text": [
            "Elements greater than 5:\n",
            "[18 19]\n"
          ]
        }
      ]
    },
    {
      "cell_type": "markdown",
      "source": [
        "**MATHEMATICS USING ARRAYS**"
      ],
      "metadata": {
        "id": "3BIfWTDgTkNs"
      }
    },
    {
      "cell_type": "code",
      "source": [
        "x = np.array([[1,2],[3,4]], dtype=np.int64)\n",
        "y = np.array([[5,6],[7,8]], dtype=np.int64)\n",
        "print(x)\n",
        "print(y)\n",
        "print(x+y)\n",
        "print(np.add(x,y))\n",
        "print(x-y)\n",
        "print(np.subtract(x,y))\n",
        "print(x*y)\n",
        "print(np.multiply(x,y))\n",
        "print(x/y)\n",
        "print(np.divide(x,y))\n"
      ],
      "metadata": {
        "colab": {
          "base_uri": "https://localhost:8080/"
        },
        "id": "EElBZUUAQ489",
        "outputId": "340c09b6-15ed-422f-f93d-31cc85a0c88b"
      },
      "execution_count": 49,
      "outputs": [
        {
          "output_type": "stream",
          "name": "stdout",
          "text": [
            "[[1 2]\n",
            " [3 4]]\n",
            "[[5 6]\n",
            " [7 8]]\n",
            "[[ 6  8]\n",
            " [10 12]]\n",
            "[[ 6  8]\n",
            " [10 12]]\n",
            "[[-4 -4]\n",
            " [-4 -4]]\n",
            "[[-4 -4]\n",
            " [-4 -4]]\n",
            "[[ 5 12]\n",
            " [21 32]]\n",
            "[[ 5 12]\n",
            " [21 32]]\n",
            "[[0.2        0.33333333]\n",
            " [0.42857143 0.5       ]]\n",
            "[[0.2        0.33333333]\n",
            " [0.42857143 0.5       ]]\n"
          ]
        }
      ]
    },
    {
      "cell_type": "code",
      "source": [
        "print(x)\n",
        "print(np.sqrt(x))"
      ],
      "metadata": {
        "colab": {
          "base_uri": "https://localhost:8080/"
        },
        "id": "oPDqoHP9WxM5",
        "outputId": "1a38da73-9cc1-492f-817e-8647b67234a0"
      },
      "execution_count": 51,
      "outputs": [
        {
          "output_type": "stream",
          "name": "stdout",
          "text": [
            "[[1 2]\n",
            " [3 4]]\n",
            "[[1.         1.41421356]\n",
            " [1.73205081 2.        ]]\n"
          ]
        }
      ]
    },
    {
      "cell_type": "markdown",
      "source": [
        "**INNER PRODUCT**"
      ],
      "metadata": {
        "id": "-7RPcNoeYadw"
      }
    },
    {
      "cell_type": "code",
      "source": [
        "\n",
        "\n",
        "# Create two matrices\n",
        "matrix1 = np.array([1, 2, 3])\n",
        "matrix2 = np.array([4, 5, 6])\n",
        "\n",
        "\n",
        "# Calculate the inner product\n",
        "inner_product = np.dot(matrix1, matrix2)\n",
        "\n",
        "\n",
        "# Print the result\n",
        "print(\"Inner Product:\", inner_product)\n",
        "\n",
        "\n",
        "#[1,2,3][4,\n",
        "#        5,\n",
        "#        6]\n",
        "\n",
        "\n"
      ],
      "metadata": {
        "colab": {
          "base_uri": "https://localhost:8080/"
        },
        "id": "30Jynl4VWxP0",
        "outputId": "e969b61d-1a74-4c25-f685-f4e89a97f088"
      },
      "execution_count": 52,
      "outputs": [
        {
          "output_type": "stream",
          "name": "stdout",
          "text": [
            "Inner Product: 32\n"
          ]
        }
      ]
    },
    {
      "cell_type": "markdown",
      "source": [
        "**SUM**"
      ],
      "metadata": {
        "id": "uqTizFNfY8E7"
      }
    },
    {
      "cell_type": "code",
      "source": [
        "x=np.array([[10,20],[30,40]])\n",
        "print(x)\n",
        "print(np.sum(x))   # Compute the sum of all elements"
      ],
      "metadata": {
        "colab": {
          "base_uri": "https://localhost:8080/"
        },
        "id": "H4GqWLL9WxSJ",
        "outputId": "2ee02486-bee2-417d-bfde-17baeacf7e68"
      },
      "execution_count": 53,
      "outputs": [
        {
          "output_type": "stream",
          "name": "stdout",
          "text": [
            "[[10 20]\n",
            " [30 40]]\n",
            "100\n"
          ]
        }
      ]
    },
    {
      "cell_type": "code",
      "source": [
        "print(np.sum(x,axis=0))   #compute sum of all columns\n",
        "print(np.sum(x,axis=1))   #compute sum of all rows"
      ],
      "metadata": {
        "colab": {
          "base_uri": "https://localhost:8080/"
        },
        "id": "stnvPbzOWxUX",
        "outputId": "4768f407-e486-4ab6-d3d8-d9692b67ecc2"
      },
      "execution_count": 55,
      "outputs": [
        {
          "output_type": "stream",
          "name": "stdout",
          "text": [
            "[40 60]\n",
            "[30 70]\n"
          ]
        }
      ]
    },
    {
      "cell_type": "markdown",
      "source": [
        "**TRANSPOSE**"
      ],
      "metadata": {
        "id": "TRuP_hItZynb"
      }
    },
    {
      "cell_type": "code",
      "source": [
        "# Create a matrix\n",
        "matrix = np.array([[1, 2, 3], [4, 5, 6]])\n",
        "\n",
        "\n",
        "# Calculate the transpose\n",
        "transpose = matrix.T  # or np.transpose(matrix)\n",
        "\n",
        "\n",
        "# Print the original and transposed matrices\n",
        "print(\"Original Matrix:\")\n",
        "print(matrix)\n",
        "print(\"Shape:\", matrix.shape)\n",
        "print(\"Number of dimensions:\", matrix.ndim)\n",
        "print(\"Transposed Matrix:\")\n",
        "print(transpose)\n",
        "print(\"Shape:\", transpose.shape)\n",
        "print(\"Number of dimensions:\", transpose.ndim)\n",
        "\n",
        "\n",
        "\n"
      ],
      "metadata": {
        "colab": {
          "base_uri": "https://localhost:8080/"
        },
        "id": "BlAaj0S4Z1HT",
        "outputId": "eda82556-b4f4-40c3-816f-f33d65f02a74"
      },
      "execution_count": 56,
      "outputs": [
        {
          "output_type": "stream",
          "name": "stdout",
          "text": [
            "Original Matrix:\n",
            "[[1 2 3]\n",
            " [4 5 6]]\n",
            "Shape: (2, 3)\n",
            "Number of dimensions: 2\n",
            "Transposed Matrix:\n",
            "[[1 4]\n",
            " [2 5]\n",
            " [3 6]]\n",
            "Shape: (3, 2)\n",
            "Number of dimensions: 2\n"
          ]
        }
      ]
    },
    {
      "cell_type": "markdown",
      "source": [
        "**FLATTENING A NUMPY ARRAY**"
      ],
      "metadata": {
        "id": "ot7R1jLmapsI"
      }
    },
    {
      "cell_type": "code",
      "source": [
        "#HAVING 1 ROW AND N COLUMNS\n",
        "#THEY NEED INTO FLATTENED FOR INPUT IN THE NEURAL NETWORKS\n",
        "#CREATES COPY OF THE ORIGINAL ARRAY\n",
        "a=np.ones((2,2))\n",
        "print(a)\n",
        "b=a.flatten()\n",
        "print(b)"
      ],
      "metadata": {
        "colab": {
          "base_uri": "https://localhost:8080/"
        },
        "id": "Pvz1mu9vZ1vE",
        "outputId": "4e628d85-9ced-48c2-8c2b-078728319e90"
      },
      "execution_count": 58,
      "outputs": [
        {
          "output_type": "stream",
          "name": "stdout",
          "text": [
            "[[1. 1.]\n",
            " [1. 1.]]\n",
            "[1. 1. 1. 1.]\n"
          ]
        }
      ]
    },
    {
      "cell_type": "code",
      "source": [
        "#maintains pointer to the original array\n",
        "#CHANGES THE ORIGINAL ARRAY\n",
        "c=a.ravel()\n",
        "print(c)"
      ],
      "metadata": {
        "colab": {
          "base_uri": "https://localhost:8080/"
        },
        "id": "291NraARZ1_D",
        "outputId": "6a39971d-d76b-492f-8e08-cee1a4dac8a6"
      },
      "execution_count": 59,
      "outputs": [
        {
          "output_type": "stream",
          "name": "stdout",
          "text": [
            "[1. 1. 1. 1.]\n"
          ]
        }
      ]
    },
    {
      "cell_type": "code",
      "source": [
        "print('Original shape :', a.shape)\n",
        "print('Array :','\\n', a)\n",
        "print('Shape after flatten :',b.shape)\n",
        "print('Array :','\\n', b)\n",
        "print('Shape after ravel :',c.shape)\n",
        "print('Array :','\\n', c)\n",
        "\n",
        "\n",
        "\n"
      ],
      "metadata": {
        "colab": {
          "base_uri": "https://localhost:8080/"
        },
        "id": "biaIzcBhZ2B1",
        "outputId": "89b1defb-ad8f-41d5-eef4-644c3b7b374d"
      },
      "execution_count": 60,
      "outputs": [
        {
          "output_type": "stream",
          "name": "stdout",
          "text": [
            "Original shape : (2, 2)\n",
            "Array : \n",
            " [[1. 1.]\n",
            " [1. 1.]]\n",
            "Shape after flatten : (4,)\n",
            "Array : \n",
            " [1. 1. 1. 1.]\n",
            "Shape after ravel : (4,)\n",
            "Array : \n",
            " [1. 1. 1. 1.]\n"
          ]
        }
      ]
    },
    {
      "cell_type": "markdown",
      "source": [
        "**INVERSE OF THE ARRAY**"
      ],
      "metadata": {
        "id": "495lAgrMb187"
      }
    },
    {
      "cell_type": "code",
      "source": [
        "# Create a matrix\n",
        "matrix = np.array([[1, 2], [3, 4]])\n",
        "\n",
        "\n",
        "# Calculate the inverse\n",
        "inverse = np.linalg.inv(matrix)   #linearalgebra\n",
        "\n",
        "\n",
        "# Print the original and inverse matrices\n",
        "print(\"Original Matrix:\")\n",
        "print(matrix)\n",
        "print(\"Inverse Matrix:\")\n",
        "print(inverse)\n",
        "\n",
        "\n",
        "\n"
      ],
      "metadata": {
        "colab": {
          "base_uri": "https://localhost:8080/"
        },
        "id": "nHe-js75b8Bd",
        "outputId": "8d61ddbe-9eac-46e2-9877-05344a55f3cd"
      },
      "execution_count": 61,
      "outputs": [
        {
          "output_type": "stream",
          "name": "stdout",
          "text": [
            "Original Matrix:\n",
            "[[1 2]\n",
            " [3 4]]\n",
            "Inverse Matrix:\n",
            "[[-2.   1. ]\n",
            " [ 1.5 -0.5]]\n"
          ]
        }
      ]
    },
    {
      "cell_type": "markdown",
      "source": [
        "**SOLVE SYSTEMS OF LINEAR EQUATIONS**\n",
        "\n"
      ],
      "metadata": {
        "id": "dxH86wFfdrsz"
      }
    },
    {
      "cell_type": "code",
      "source": [
        "# Coefficient matrix\n",
        "A = np.array([[1, 2], [3, 4]])\n",
        "\n",
        "\n",
        "# Constant vector\n",
        "b = np.array([6, 7])\n",
        "\n",
        "\n",
        "# Solve the linear equations\n",
        "x = np.linalg.solve(A, b)\n",
        "\n",
        "\n",
        "# Print the solution\n",
        "print(\"Solution:\")\n",
        "print(x)\n",
        "\n",
        "\n",
        "\n",
        "\n",
        "\n"
      ],
      "metadata": {
        "colab": {
          "base_uri": "https://localhost:8080/"
        },
        "id": "1-kvkG5bb8EI",
        "outputId": "871240b4-3730-44d5-9a33-9f969f90b2a4"
      },
      "execution_count": 62,
      "outputs": [
        {
          "output_type": "stream",
          "name": "stdout",
          "text": [
            "Solution:\n",
            "[-5.   5.5]\n"
          ]
        }
      ]
    },
    {
      "cell_type": "markdown",
      "source": [
        "**IMAGE MANIPULATION**"
      ],
      "metadata": {
        "id": "US1Q-OvRe84z"
      }
    },
    {
      "cell_type": "code",
      "source": [
        "import matplotlib.pyplot as plt\n",
        "image=plt.imread(\"ml.png\")\n",
        "image_array=np.array(image)\n",
        "arr=image_array\n",
        "# Print ndarray attributes\n",
        "print(\"Data type:\", arr.dtype)\n",
        "print(\"Shape:\", arr.shape)\n",
        "print(\"Number of dimensions:\", arr.ndim)\n",
        "\n",
        "# 3pics , 648 rows,1152 columns\n",
        "\n",
        "plt.imshow(image_array, cmap='gray')\n",
        "plt.title('Original Image')\n",
        "plt.show()\n",
        "\n",
        "\n",
        "\n",
        "\n",
        "\n",
        "\n",
        "\n",
        "\n",
        "\n",
        "\n",
        "\n",
        "\n"
      ],
      "metadata": {
        "colab": {
          "base_uri": "https://localhost:8080/",
          "height": 414
        },
        "id": "gy3nCIeveehz",
        "outputId": "eaa9b45f-ec95-4d78-a599-6fa6452c0136"
      },
      "execution_count": 68,
      "outputs": [
        {
          "output_type": "stream",
          "name": "stdout",
          "text": [
            "Data type: float32\n",
            "Shape: (648, 1152, 3)\n",
            "Number of dimensions: 3\n"
          ]
        },
        {
          "output_type": "display_data",
          "data": {
            "text/plain": [
              "<Figure size 640x480 with 1 Axes>"
            ],
            "image/png": "[encoded data removed]"
          },
          "metadata": {}
        }
      ]
    },
    {
      "cell_type": "code",
      "source": [
        "print(np.max(image_array))\n",
        "\n",
        "\n",
        "\n"
      ],
      "metadata": {
        "colab": {
          "base_uri": "https://localhost:8080/"
        },
        "id": "HuaCPZ_fb8t6",
        "outputId": "357af31e-32da-436f-fd97-936394429f92"
      },
      "execution_count": 69,
      "outputs": [
        {
          "output_type": "stream",
          "name": "stdout",
          "text": [
            "1.0\n"
          ]
        }
      ]
    },
    {
      "cell_type": "code",
      "source": [
        "inverted_image = np.max(image_array) - image_array\n",
        "plt.imshow(inverted_image, cmap='gray')\n",
        "plt.title('inverted_image')\n",
        "plt.show()\n",
        "\n",
        "\n",
        "\n"
      ],
      "metadata": {
        "colab": {
          "base_uri": "https://localhost:8080/",
          "height": 362
        },
        "id": "q1t8yGA0b8ye",
        "outputId": "b97747db-1dda-4424-aa9a-5428e1821329"
      },
      "execution_count": 70,
      "outputs": [
        {
          "output_type": "display_data",
          "data": {
            "text/plain": [
              "<Figure size 640x480 with 1 Axes>"
            ],
            "image/png": "[encoded data removed]"
          },
          "metadata": {}
        }
      ]
    },
    {
      "cell_type": "markdown",
      "source": [
        "**POLYNOMIALS**"
      ],
      "metadata": {
        "id": "5JJNnulyhurC"
      }
    },
    {
      "cell_type": "code",
      "source": [
        "from numpy import poly1d\n",
        "p=poly1d([3,2,1])    # index 0f 1 is 0,index 0f 2 is 1,index 0f 3 is 2,\n",
        "print(p)"
      ],
      "metadata": {
        "colab": {
          "base_uri": "https://localhost:8080/"
        },
        "id": "4xTF7uV_hxc8",
        "outputId": "ec99f375-f715-4117-9caf-ed5fc232bf65"
      },
      "execution_count": 71,
      "outputs": [
        {
          "output_type": "stream",
          "name": "stdout",
          "text": [
            "   2\n",
            "3 x + 2 x + 1\n"
          ]
        }
      ]
    },
    {
      "cell_type": "code",
      "source": [
        "p_sqr=p*p\n",
        "print(p_sqr)"
      ],
      "metadata": {
        "colab": {
          "base_uri": "https://localhost:8080/"
        },
        "id": "6eC1lGZThxfT",
        "outputId": "21313a03-cfdb-4e19-b92e-b7d024f42fd2"
      },
      "execution_count": 72,
      "outputs": [
        {
          "output_type": "stream",
          "name": "stdout",
          "text": [
            "   4      3      2\n",
            "9 x + 12 x + 10 x + 4 x + 1\n"
          ]
        }
      ]
    },
    {
      "cell_type": "code",
      "source": [
        "print(p.deriv())"
      ],
      "metadata": {
        "colab": {
          "base_uri": "https://localhost:8080/"
        },
        "id": "GmbCtIlfhxim",
        "outputId": "301e6878-3507-4309-df88-034487b71a45"
      },
      "execution_count": 73,
      "outputs": [
        {
          "output_type": "stream",
          "name": "stdout",
          "text": [
            " \n",
            "6 x + 2\n"
          ]
        }
      ]
    },
    {
      "cell_type": "markdown",
      "source": [
        "**COMPUTATION OF FFT**(FAST FOURIER TRANSFORMATION)"
      ],
      "metadata": {
        "id": "fadlU3NMiqXZ"
      }
    },
    {
      "cell_type": "code",
      "source": [
        "#Computation of FFT\n",
        "from scipy.fftpack import fft,ifft\n",
        "import numpy as np\n",
        "#Numpy array generation\n",
        "x = np.array([1.0, 1.0, 1.0, 1.0])\n",
        "\n",
        "\n",
        "#Applying the fft function\n",
        "y = fft(x)\n",
        "print(y)\n",
        "\n"
      ],
      "metadata": {
        "colab": {
          "base_uri": "https://localhost:8080/"
        },
        "id": "iafa-1yfipL6",
        "outputId": "bdba2106-7617-48a0-91c1-97a4e5504494"
      },
      "execution_count": 74,
      "outputs": [
        {
          "output_type": "stream",
          "name": "stdout",
          "text": [
            "[4.-0.j 0.+0.j 0.-0.j 0.-0.j]\n"
          ]
        }
      ]
    },
    {
      "cell_type": "code",
      "source": [
        "yinv = ifft(y)\n",
        "\n",
        "\n",
        "print (yinv)\n",
        "\n"
      ],
      "metadata": {
        "colab": {
          "base_uri": "https://localhost:8080/"
        },
        "id": "MQ9fh_saipOj",
        "outputId": "2e0cd0d1-5136-476b-83fc-4964d479dab1"
      },
      "execution_count": 75,
      "outputs": [
        {
          "output_type": "stream",
          "name": "stdout",
          "text": [
            "[1.+0.j 1.+0.j 1.-0.j 1.+0.j]\n"
          ]
        }
      ]
    },
    {
      "cell_type": "markdown",
      "source": [
        "**SIGNAL PROCESSING**"
      ],
      "metadata": {
        "id": "MNllQr9nllaQ"
      }
    },
    {
      "cell_type": "code",
      "source": [
        "#WANT EXCESS VALUES ON X AXIS\n",
        "import numpy as np\n",
        "from scipy import signal     #scientific python\n",
        "import matplotlib.pyplot as plt\n",
        "\n",
        "\n",
        "# Generate a time array\n",
        "t = np.linspace(0, 2, 1000)\n",
        "\n",
        "\n",
        "# Generate a sine wave signal\n",
        "frequency = 2  # Frequency of the sine wave\n",
        "amplitude = 1  # Amplitude of the sine wave\n",
        "signal_wave = amplitude * np.sin(2 * np.pi * frequency * t)\n",
        "\n",
        "\n",
        "# Plot the signal\n",
        "plt.plot(t, signal_wave)\n",
        "plt.xlabel('Time')\n",
        "plt.ylabel('Amplitude')\n",
        "plt.title('Sine Wave')\n",
        "plt.show()\n",
        "\n",
        "\n",
        "\n",
        "\n",
        "\n"
      ],
      "metadata": {
        "colab": {
          "base_uri": "https://localhost:8080/",
          "height": 472
        },
        "id": "DD5YUQR0ipQw",
        "outputId": "af98bd6b-d245-494e-d832-10a2bf9c40c2"
      },
      "execution_count": 76,
      "outputs": [
        {
          "output_type": "display_data",
          "data": {
            "text/plain": [
              "<Figure size 640x480 with 1 Axes>"
            ],
            "image/png": "[encoded data removed]"
          },
          "metadata": {}
        }
      ]
    },
    {
      "cell_type": "code",
      "source": [
        "import numpy as np\n",
        "from scipy import signal\n",
        "import matplotlib.pyplot as plt\n",
        "\n",
        "\n",
        "# Generate a time array\n",
        "t = np.linspace(0, 1, 1000)\n",
        "\n",
        "\n",
        "# Generate a signal with two frequencies\n",
        "frequency1 = 100\n",
        "frequency2 = 250\n",
        "signal_wave = np.sin(2 * np.pi * frequency1 * t) + np.sin(2 * np.pi * frequency2 * t)\n",
        "# Plot the signal\n",
        "plt.plot(t, signal_wave)\n",
        "plt.xlabel('Time')\n",
        "plt.ylabel('Amplitude')\n",
        "plt.title('Sine Wave')\n",
        "plt.show()\n",
        "\n",
        "\n",
        "# Compute the FFT\n",
        "fft = np.fft.fft(signal_wave)\n",
        "\n",
        "\n",
        "# Compute the frequencies corresponding to the FFT coefficients\n",
        "frequencies = np.fft.fftfreq(len(signal_wave), t[1] - t[0])\n",
        "\n",
        "\n",
        "# Plot the FFT spectrum\n",
        "plt.plot(frequencies, np.abs(fft))\n",
        "plt.xlabel('Frequency')\n",
        "plt.ylabel('Magnitude')\n",
        "plt.title('FFT Spectrum')\n",
        "plt.show()\n",
        "\n",
        "\n",
        "\n",
        "\n",
        "\n"
      ],
      "metadata": {
        "colab": {
          "base_uri": "https://localhost:8080/",
          "height": 927
        },
        "id": "AXVat5yoipTE",
        "outputId": "1e865f93-94b9-4008-db8f-121e303ddb67"
      },
      "execution_count": 77,
      "outputs": [
        {
          "output_type": "display_data",
          "data": {
            "text/plain": [
              "<Figure size 640x480 with 1 Axes>"
            ],
            "image/png": "[encoded data removed]"
          },
          "metadata": {}
        },
        {
          "output_type": "display_data",
          "data": {
            "text/plain": [
              "<Figure size 640x480 with 1 Axes>"
            ],
            "image/png": "[encoded data removed]"
          },
          "metadata": {}
        }
      ]
    },
    {
      "cell_type": "code",
      "source": [
        "#Using hann method\n",
        "\n",
        "import numpy as np\n",
        "from scipy import signal\n",
        "import matplotlib.pyplot as plt\n",
        "\n",
        "\n",
        "# Generate a signal with noise\n",
        "t = np.linspace(0, 1, 1000)\n",
        "signal_wave = np.sin(2 * np.pi * 10 * t) + np.random.normal(0, 0.5, len(t))\n",
        "\n",
        "\n",
        "# Define the window for the moving average filter\n",
        "window = signal.windows.hann(50)\n",
        "\n",
        "\n",
        "# Apply the moving average filter\n",
        "filtered_signal = signal.convolve(signal_wave, window, mode='same') / sum(window)\n",
        "\n",
        "\n",
        "# Plot the original and filtered signals\n",
        "plt.plot(t, signal_wave, label='Original Signal')\n",
        "plt.plot(t, filtered_signal, label='Filtered Signal')\n",
        "plt.xlabel('Time')\n",
        "plt.ylabel('Amplitude')\n",
        "plt.title('Moving Average Filter')\n",
        "plt.legend()\n",
        "plt.show()\n",
        "\n",
        "\n",
        "\n",
        "\n",
        "\n"
      ],
      "metadata": {
        "colab": {
          "base_uri": "https://localhost:8080/",
          "height": 472
        },
        "id": "bMXnWFN5ipVH",
        "outputId": "431b6878-3178-4d35-8277-acf99e004d38"
      },
      "execution_count": 78,
      "outputs": [
        {
          "output_type": "display_data",
          "data": {
            "text/plain": [
              "<Figure size 640x480 with 1 Axes>"
            ],
            "image/png": "[encoded data removed]"
          },
          "metadata": {}
        }
      ]
    },
    {
      "cell_type": "markdown",
      "source": [
        "**RADAR (Radio Detection And Ranging)**"
      ],
      "metadata": {
        "id": "pIR7OTUcIzZn"
      }
    },
    {
      "cell_type": "code",
      "source": [
        "import numpy as np\n",
        "\n",
        "\n",
        "def calculate_correlation(vector1, vector2):\n",
        "    if len(vector1) != len(vector2):\n",
        "        raise ValueError(\"Vectors must have the same length.\")\n",
        "\n",
        "\n",
        "    n = len(vector1)\n",
        "\n",
        "\n",
        "    # Calculate the means\n",
        "    mean1 = np.mean(vector1)\n",
        "    mean2 = np.mean(vector2)\n",
        "\n",
        "\n",
        "    # Calculate the standard deviations\n",
        "    std1 = np.std(vector1)\n",
        "    std2 = np.std(vector2)\n",
        "\n",
        "\n",
        "    # Calculate the covariance\n",
        "    covariance = np.sum((vector1 - mean1) * (vector2 - mean2)) / n\n",
        "\n",
        "\n",
        "    # Calculate the correlation coefficient\n",
        "    correlation = covariance / (std1 * std2)\n",
        "\n",
        "\n",
        "    return correlation\n",
        "\n",
        "\n",
        "# Example usage\n",
        "vector1 = [1,2,3,4,5]\n",
        "vector2 = [1,23,56,77,98]\n",
        "\n",
        "\n",
        "correlation = calculate_correlation(vector1, vector2)\n",
        "print(\"Correlation coefficient:\", correlation)\n",
        "\n",
        "\n",
        "\n",
        "\n",
        "\n"
      ],
      "metadata": {
        "colab": {
          "base_uri": "https://localhost:8080/"
        },
        "id": "xIMEL8AqG2km",
        "outputId": "d08dce70-8210-4729-cbee-472803b771bf"
      },
      "execution_count": 83,
      "outputs": [
        {
          "output_type": "stream",
          "name": "stdout",
          "text": [
            "Correlation coefficient: 0.9964742495078296\n"
          ]
        }
      ]
    },
    {
      "cell_type": "markdown",
      "source": [
        "**LOAD DATA FROMCSV FILES AND FETCH THE STATISTICAL INFORMATION**"
      ],
      "metadata": {
        "id": "kJTXbKVQLi5x"
      }
    },
    {
      "cell_type": "code",
      "source": [
        "import pandas as pd\n",
        "dataset=pd.read_csv('Book1.csv')"
      ],
      "metadata": {
        "id": "Xx7nJbumG2m7"
      },
      "execution_count": 85,
      "outputs": []
    },
    {
      "cell_type": "code",
      "source": [
        "print(dataset)"
      ],
      "metadata": {
        "colab": {
          "base_uri": "https://localhost:8080/"
        },
        "id": "Zk0HLRfbG2pC",
        "outputId": "9d6aec62-e111-481b-ce6f-ee0d6240651c"
      },
      "execution_count": 86,
      "outputs": [
        {
          "output_type": "stream",
          "name": "stdout",
          "text": [
            "   f1  f2  f3  Y\n",
            "0   1   2   3  1\n",
            "1   1   2   4  1\n",
            "2   1   2   5  1\n",
            "3   7   8   9  2\n",
            "4  10   8   7  2\n"
          ]
        }
      ]
    },
    {
      "cell_type": "code",
      "source": [
        "import numpy as np\n",
        "\n",
        "\n",
        "# Specify the path to the CSV file\n",
        "file_path = 'Book1.csv'\n",
        "\n",
        "\n",
        "\n",
        "\n",
        "data = np.loadtxt(file_path, delimiter=',', skiprows=1)\n",
        "\n",
        "\n",
        "# Print the loaded data\n",
        "print(data)\n",
        "\n",
        "\n",
        "\n",
        "\n",
        "\n"
      ],
      "metadata": {
        "colab": {
          "base_uri": "https://localhost:8080/"
        },
        "id": "Xd2RDohVG2rZ",
        "outputId": "5adaea73-a2d7-4204-cf2a-e29014b602f1"
      },
      "execution_count": 87,
      "outputs": [
        {
          "output_type": "stream",
          "name": "stdout",
          "text": [
            "[[ 1.  2.  3.  1.]\n",
            " [ 1.  2.  4.  1.]\n",
            " [ 1.  2.  5.  1.]\n",
            " [ 7.  8.  9.  2.]\n",
            " [10.  8.  7.  2.]]\n"
          ]
        }
      ]
    },
    {
      "cell_type": "code",
      "source": [
        "mean_value = np.mean(data,axis=0)\n",
        "print(mean_value)"
      ],
      "metadata": {
        "colab": {
          "base_uri": "https://localhost:8080/"
        },
        "id": "9o52IuhaG2th",
        "outputId": "69cfe05d-b719-4e0f-f88b-4f4fad27e314"
      },
      "execution_count": 88,
      "outputs": [
        {
          "output_type": "stream",
          "name": "stdout",
          "text": [
            "[4.  4.4 5.6 1.4]\n"
          ]
        }
      ]
    },
    {
      "cell_type": "code",
      "source": [
        "median_value = np.median(data,axis=0)\n",
        "print(median_value)"
      ],
      "metadata": {
        "colab": {
          "base_uri": "https://localhost:8080/"
        },
        "id": "WbAfQEy_G6Es",
        "outputId": "88a9b6a2-3d75-420d-d7a2-8668a755c8c7"
      },
      "execution_count": 92,
      "outputs": [
        {
          "output_type": "stream",
          "name": "stdout",
          "text": [
            "[1. 2. 5. 1.]\n"
          ]
        }
      ]
    },
    {
      "cell_type": "code",
      "source": [
        "std_dev = np.std(data, axis=0)\n",
        "print(std_dev)\n",
        "\n"
      ],
      "metadata": {
        "colab": {
          "base_uri": "https://localhost:8080/"
        },
        "id": "YREY-T8dG6HU",
        "outputId": "65ffffdf-822c-4be6-85c2-d4bdc41ad88a"
      },
      "execution_count": 94,
      "outputs": [
        {
          "output_type": "stream",
          "name": "stdout",
          "text": [
            "[3.79473319 2.93938769 2.15406592 0.48989795]\n"
          ]
        }
      ]
    },
    {
      "cell_type": "code",
      "source": [
        "variance = np.var(data, axis=0)\n",
        "print(variance)\n",
        "\n"
      ],
      "metadata": {
        "colab": {
          "base_uri": "https://localhost:8080/"
        },
        "id": "MGdzQD9tOkRH",
        "outputId": "19d19d2c-18b8-4321-d705-4e7d87f2f770"
      },
      "execution_count": 95,
      "outputs": [
        {
          "output_type": "stream",
          "name": "stdout",
          "text": [
            "[14.4   8.64  4.64  0.24]\n"
          ]
        }
      ]
    },
    {
      "cell_type": "code",
      "source": [
        "min_value = np.min(data,axis=0)\n",
        "print(min_value)\n",
        "max_value = np.max(data,axis=0)\n",
        "print(max_value)\n"
      ],
      "metadata": {
        "colab": {
          "base_uri": "https://localhost:8080/"
        },
        "id": "5KybgviIOkT1",
        "outputId": "5241a1e9-3c7b-445c-d020-682bdefcd1dd"
      },
      "execution_count": 96,
      "outputs": [
        {
          "output_type": "stream",
          "name": "stdout",
          "text": [
            "[1. 2. 3. 1.]\n",
            "[10.  8.  9.  2.]\n"
          ]
        }
      ]
    },
    {
      "cell_type": "markdown",
      "source": [
        "Design a radar system where, the input (int) is given by the user.\n",
        "User will give matrix1(Tx)\n",
        "matrix2(Rx)\n",
        "and then correlate the metrices and print if the values are similar or not\n",
        "\n",
        "similar\n",
        "non similar"
      ],
      "metadata": {
        "id": "u05Rl1qnPy6Q"
      }
    },
    {
      "cell_type": "code",
      "source": [
        "import numpy as np\n",
        "\n",
        "\n",
        "def calculate_correlation(vector1, vector2):\n",
        "    if len(vector1) != len(vector2):\n",
        "        raise ValueError(\"Vectors must have the same length.\")\n",
        "\n",
        "\n",
        "    n = len(vector1)\n",
        "\n",
        "\n",
        "    # Calculate the means\n",
        "    mean1 = np.mean(vector1)\n",
        "    mean2 = np.mean(vector2)\n",
        "\n",
        "\n",
        "    # Calculate the standard deviations\n",
        "    std1 = np.std(vector1)\n",
        "    std2 = np.std(vector2)\n",
        "\n",
        "\n",
        "    # Calculate the covariance\n",
        "    covariance = np.sum((vector1 - mean1) * (vector2 - mean2)) / n\n",
        "\n",
        "\n",
        "    # Calculate the correlation coefficient\n",
        "    correlation = covariance / (std1 * std2)\n",
        "\n",
        "\n",
        "    return correlation\n",
        "\n",
        "\n",
        "# Example usage\n",
        "vector1=[]\n",
        "vector2=[]\n",
        "for i in range(5):\n",
        "  vec1=int(input(\"Enter the vector1 value:\"))\n",
        "  vector1.append(vec1)\n",
        "  vec2=int(input(\"Enter the vector2 value:\"))\n",
        "  vector2.append(vec2)\n",
        "print(vector1)\n",
        "print(vector2)\n",
        "if(vector1 == vector2):\n",
        "  print(\"Similar matrics\")\n",
        "else:\n",
        "  print(\"Non similar matrics\")\n",
        "\n",
        "\n",
        "\n",
        "correlation = calculate_correlation(vector1, vector2)\n",
        "print(\"Correlation coefficient:\", correlation)\n",
        "if(correlation<=0.5 and correlation>=-0.5):\n",
        "  print(\"Similar matrics\")\n",
        "else:\n",
        "  print(\"Non similar matrics\")\n",
        "\n",
        "\n",
        "\n",
        "\n"
      ],
      "metadata": {
        "colab": {
          "base_uri": "https://localhost:8080/"
        },
        "id": "Ag-xLS2kOkWm",
        "outputId": "e4c75d77-b13a-4188-c239-27b86a8d71e1"
      },
      "execution_count": 112,
      "outputs": [
        {
          "output_type": "stream",
          "name": "stdout",
          "text": [
            "Enter the vector1 value:1\n",
            "Enter the vector2 value:2\n",
            "Enter the vector1 value:1\n",
            "Enter the vector2 value:2\n",
            "Enter the vector1 value:3\n",
            "Enter the vector2 value:4\n",
            "Enter the vector1 value:5\n",
            "Enter the vector2 value:6\n",
            "Enter the vector1 value:7\n",
            "Enter the vector2 value:8\n",
            "[1, 1, 3, 5, 7]\n",
            "[2, 2, 4, 6, 8]\n",
            "Non similar matrics\n",
            "Correlation coefficient: 1.0000000000000002\n",
            "Non similar matrics\n"
          ]
        }
      ]
    },
    {
      "cell_type": "code",
      "source": [],
      "metadata": {
        "id": "YUWQFTQCOkZO"
      },
      "execution_count": null,
      "outputs": []
    },
    {
      "cell_type": "code",
      "source": [],
      "metadata": {
        "id": "IXZa0dbPOkb0"
      },
      "execution_count": null,
      "outputs": []
    },
    {
      "cell_type": "code",
      "source": [],
      "metadata": {
        "id": "a3AHBSQSOkeT"
      },
      "execution_count": null,
      "outputs": []
    },
    {
      "cell_type": "code",
      "source": [],
      "metadata": {
        "id": "dEyngHwKOkvi"
      },
      "execution_count": null,
      "outputs": []
    },
    {
      "cell_type": "code",
      "source": [],
      "metadata": {
        "id": "aZaZi6xZOkyd"
      },
      "execution_count": null,
      "outputs": []
    }
  ]
}